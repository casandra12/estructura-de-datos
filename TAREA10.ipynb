{
  "nbformat": 4,
  "nbformat_minor": 0,
  "metadata": {
    "colab": {
      "name": "TAREA10.ipynb",
      "provenance": [],
      "authorship_tag": "ABX9TyOx00TwKyCSJVj7Ujq/Ebat",
      "include_colab_link": true
    },
    "kernelspec": {
      "name": "python3",
      "display_name": "Python 3"
    },
    "language_info": {
      "name": "python"
    }
  },
  "cells": [
    {
      "cell_type": "markdown",
      "metadata": {
        "id": "view-in-github",
        "colab_type": "text"
      },
      "source": [
        "<a href=\"https://colab.research.google.com/github/casandra12/estructura-de-datos/blob/main/TAREA10.ipynb\" target=\"_parent\"><img src=\"https://colab.research.google.com/assets/colab-badge.svg\" alt=\"Open In Colab\"/></a>"
      ]
    },
    {
      "cell_type": "code",
      "metadata": {
        "id": "slXGt18EBMKV"
      },
      "source": [
        "class Queue:\n",
        "    def __init__( self ):\n",
        "        self.data =[]\n",
        "\n",
        "    def is_empty( self):\n",
        "        return len(self.data)==0  \n",
        "    \n",
        "    def enqueue( self, value ):\n",
        "        self.data.append(value)\n",
        "    \n",
        "    def dequeue( self):\n",
        "        return self.data.pop()\n",
        "    \n",
        "    def length( self):\n",
        "        return len(self.data)\n",
        "    \n",
        "    def to_string( self):\n",
        "        for elem in self.data:\n",
        "            print(f'|{ elem }| <-- ', end=\"\")\n",
        "        print(\"\\n\")"
      ],
      "execution_count": 1,
      "outputs": []
    },
    {
      "cell_type": "code",
      "metadata": {
        "id": "tIHbogDdMF0z"
      },
      "source": [
        "class PriorityQueue:\n",
        "    def __init__(self):\n",
        "        self.data=[]\n",
        "        self.index=[]\n",
        "    \n",
        "    def is_empty(self):\n",
        "        return len(self.data)==0 \n",
        "    \n",
        "    def length(self):\n",
        "        return len(self.data)\n",
        "\n",
        "    def enqueue(self,prioridad,elem):\n",
        "        if len(self.data)==0:\n",
        "            self.data.append(elem)\n",
        "            self.index.append(prioridad)\n",
        "        elif prioridad>=self.index[-1]:\n",
        "            self.data.append(elem)\n",
        "            self.index.append(prioridad)\n",
        "        else:\n",
        "            cont=0\n",
        "            for elemento in self.index:\n",
        "                if prioridad>=elemento:\n",
        "                    cont+=1\n",
        "            self.data.insert(cont, elem)\n",
        "            self.index.insert(cont, prioridad)\n",
        "\n",
        "    def dequeue(self):\n",
        "        eliminar=self.index.pop(0)\n",
        "        return self.data.pop(0)\n",
        "    \n",
        "    def to_string(self):\n",
        "        cont=0\n",
        "        for elem in self.data:\n",
        "            print(f'|{self.index[cont], elem}|<--', end=\"\")\n",
        "            cont+=1"
      ],
      "execution_count": 2,
      "outputs": []
    },
    {
      "cell_type": "code",
      "metadata": {
        "id": "qKkTZcXfMvgb"
      },
      "source": [
        "class BoundedPriorityQueue:\n",
        "    def __init__(self, niveles):\n",
        "        self.data=[Queue()for x in range(niveles)]\n",
        "        self.tamaño=0\n",
        "    \n",
        "    def is_empty(self):\n",
        "        return self.tamaño ==0\n",
        "    \n",
        "    def length(self):\n",
        "        return self.tamaño\n",
        "\n",
        "    def enqueue(self, prioridad, elem):\n",
        "        if prioridad<len(self.data) and prioridad >=0:\n",
        "            self.data[prioridad].enqueue(elem)\n",
        "            self.tamaño+=1\n",
        "        else:\n",
        "            print(f' RANGO NO VALIDO{prioridad},{elem}|')\n",
        "    \n",
        "    def dequeue(self):\n",
        "        if self.is_empty():\n",
        "            print(\"LA COLA ESTA VACIA\")\n",
        "        else:\n",
        "            cont = len(self.data)-1\n",
        "            while cont>=0:\n",
        "                if self.data[cont].is_empty():\n",
        "                    cont-=1\n",
        "                else:\n",
        "                    break\n",
        "            self.tamaño-=1\n",
        "            return self.data[cont].dequeue()\n",
        "\n",
        "    def to_string(self):\n",
        "        for index in range(len(self.data)):\n",
        "            if self.data[index].is_empty():\n",
        "                pass\n",
        "            else:\n",
        "                self.data[index].to_string()\n",
        "        print(\"\")"
      ],
      "execution_count": 5,
      "outputs": []
    },
    {
      "cell_type": "code",
      "metadata": {
        "colab": {
          "base_uri": "https://localhost:8080/"
        },
        "id": "WVgglYAFMyl5",
        "outputId": "a7643965-9677-4068-ebee-c4ec037b3919"
      },
      "source": [
        "cola = BoundedPriorityQueue(7)\n",
        "print(\"¿SE ENCUENTRA VACIO?: \", cola.is_empty())\n",
        "print(\"ELEMENTOS \", cola.length())\n",
        "\n",
        "cola.enqueue(1,\"ADULTO JOVEN\")\n",
        "cola.enqueue(2,\"ADULTOS\")\n",
        "cola.enqueue(3,\"EMBARAZADAS.\")\n",
        "cola.enqueue(4,\"PERSONAS CON PROBLELMAS DE SALUD\")\n",
        "cola.enqueue(5,\"TERCERA EDAD\")\n",
        "cola.enqueue(6,\"OTRAS DIFICULTADES\")\n",
        "\n",
        "\n",
        "print(\"ELEMENTOS: \",cola.length())\n",
        "print(\"ESTA VACIO?: \",cola.is_empty())\n",
        "cola.to_string()\n",
        "print(cola.dequeue())\n",
        "cola.to_string()\n",
        "print(\"TOTAL DE ELEMENTOS: \",cola.length())"
      ],
      "execution_count": 8,
      "outputs": [
        {
          "output_type": "stream",
          "name": "stdout",
          "text": [
            "¿SE ENCUENTRA VACIO?:  True\n",
            "ELEMENTOS  0\n",
            "ELEMENTOS:  6\n",
            "ESTA VACIO?:  False\n",
            "|ADULTO JOVEN| <-- \n",
            "\n",
            "|ADULTOS| <-- \n",
            "\n",
            "|EMBARAZADAS.| <-- \n",
            "\n",
            "|PERSONAS CON PROBLELMAS DE SALUD| <-- \n",
            "\n",
            "|TERCERA EDAD| <-- \n",
            "\n",
            "|OTRAS DIFICULTADES| <-- \n",
            "\n",
            "\n",
            "OTRAS DIFICULTADES\n",
            "|ADULTO JOVEN| <-- \n",
            "\n",
            "|ADULTOS| <-- \n",
            "\n",
            "|EMBARAZADAS.| <-- \n",
            "\n",
            "|PERSONAS CON PROBLELMAS DE SALUD| <-- \n",
            "\n",
            "|TERCERA EDAD| <-- \n",
            "\n",
            "\n",
            "TOTAL DE ELEMENTOS:  5\n"
          ]
        }
      ]
    }
  ]
}