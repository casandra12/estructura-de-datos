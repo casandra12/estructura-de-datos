{
  "nbformat": 4,
  "nbformat_minor": 0,
  "metadata": {
    "colab": {
      "name": "Untitled11.ipynb",
      "provenance": [],
      "collapsed_sections": [],
      "authorship_tag": "ABX9TyPm02MxXZxXPPAWEehrYdgv",
      "include_colab_link": true
    },
    "kernelspec": {
      "name": "python3",
      "display_name": "Python 3"
    },
    "language_info": {
      "name": "python"
    }
  },
  "cells": [
    {
      "cell_type": "markdown",
      "metadata": {
        "id": "view-in-github",
        "colab_type": "text"
      },
      "source": [
        "<a href=\"https://colab.research.google.com/github/casandra12/estructura-de-datos/blob/main/Untitled11.ipynb\" target=\"_parent\"><img src=\"https://colab.research.google.com/assets/colab-badge.svg\" alt=\"Open In Colab\"/></a>"
      ]
    },
    {
      "cell_type": "code",
      "metadata": {
        "id": "Tjml32X4nM-G"
      },
      "source": [
        "class Array2dADT:\n",
        "   def __init__(self, ren, col):\n",
        "       self.__data=[ [0 for y in range(col) ] for x in range(ren) ]\n",
        "      \n",
        "   def clear(self, dato ):\n",
        "        self.__data = [ [ dato for y in range(self.get_col_size()) ] for x in range(self.get_row_size()) ]\n",
        "\n",
        "   def get_row_size(self):\n",
        "        return len(self.__data)\n",
        "\n",
        "   def get_col_size(self):\n",
        "        return len (self.__data[0])\n",
        "\n",
        "   def set_item(self, ren, col,dato):\n",
        "       self .__data[ren] [col] =dato \n",
        "\n",
        "   def get_item(self, ren, col):\n",
        "       return self.__data[ren] [col] \n",
        "\n",
        "   def to_string(self):\n",
        "       cadena= \"\"\n",
        "       for renglon in self.__data:\n",
        "           for dato in renglon:\n",
        "               cadena = cadena + str(dato) + \"|\" \n",
        "           cadena = cadena +\"\\n\"\n",
        "       return cadena \n",
        "  "
      ],
      "execution_count": null,
      "outputs": []
    },
    {
      "cell_type": "code",
      "metadata": {
        "colab": {
          "base_uri": "https://localhost:8080/"
        },
        "id": "mzL16KXPocQB",
        "outputId": "481cf943-0f8b-4204-9e0c-f5d79c08063c"
      },
      "source": [
        "a2d= Array2dADT(3,6)\n",
        "print(f\"Ren: {a2d.get_row_size() }\")\n",
        "\n",
        "print(f\"Col: {a2d.get_col_size() }\")\n",
        "print(a2d.to_string())\n",
        "print (\"\")\n",
        "a2d.clear(\"M\")\n",
        "print(a2d.to_string())\n",
        "\n",
        "a2d.set_item(2,3,'p')\n",
        "print(a2d.to_string())\n",
        "print(a2d.get_item(2,3))"
      ],
      "execution_count": null,
      "outputs": [
        {
          "output_type": "stream",
          "name": "stdout",
          "text": [
            "Ren: 3\n",
            "Col: 6\n",
            "0|0|0|0|0|0|\n",
            "0|0|0|0|0|0|\n",
            "0|0|0|0|0|0|\n",
            "\n",
            "\n",
            "M|M|M|M|M|M|\n",
            "M|M|M|M|M|M|\n",
            "M|M|M|M|M|M|\n",
            "\n",
            "M|M|M|M|M|M|\n",
            "M|M|M|M|M|M|\n",
            "M|M|M|p|M|M|\n",
            "\n",
            "p\n"
          ]
        }
      ]
    },
    {
      "cell_type": "code",
      "metadata": {
        "id": "-fDUejx33xGV"
      },
      "source": [
        "\"\"\"\n",
        "Los datos iniciales como lo son:\n",
        "1.- Tamaño de la poblacion (ren y cols)\n",
        "2.- La poblacion inicial\n",
        "3. En numero de genraciones a simuladores\n",
        "\n",
        "Estaran proporcionadas por un archivo de entrada separados por comas (CSV)\n",
        "\n",
        "5\n",
        "5\n",
        "0,0,0,0,0\n",
        "0,0,1,0,0\n",
        "0,1,1,1,0\n",
        "0,0,0,0,0\n",
        "0,0,0,0,0\n",
        "10\n",
        "\n",
        "\"\"\"\n",
        "\n",
        "class JuegoDeLaVida:\n",
        "    def __init__(self, ruta_archivo ):\n",
        "\n",
        "        self.rens = None\n",
        "        self.cols = None\n",
        "        self.tablero = None\n",
        "        self.generaciones= None\n",
        "        self.read_game_data( ruta_archivo)\n",
        "\n",
        "    def read_game_data(self, archivo ):\n",
        "        archivo = open(archivo , 'rt')\n",
        "        lineas= archivo.readlines()\n",
        "        for index in range(len (lineas)):\n",
        "            lineas[index] =lineas [index].strip()\n",
        "        #print(lineas)\n",
        "        self.rens = int( lineas [0] )\n",
        "        self.cols = int( lineas [1] )\n",
        "        self.tablero =Array2dADT(self.rens, self.cols)\n",
        "        r = 0\n",
        "        c = 0\n",
        "        print( lineas )\n",
        "        for index in range( 2, 2+ self.rens , 1 ):\n",
        "            c=0\n",
        "            for dato in lineas[index].split(','):\n",
        "                self.tablero.set_item(r ,c, int(dato))\n",
        "                c+= 1\n",
        "            r += 1\n",
        "\n",
        "        self.generaciones = int( lineas[ len(lineas) - 1 ]) \n",
        "        print( \"Gens:\" ,self.generaciones)\n",
        "\n",
        "        print(self.tablero.to_string()) \n",
        "\n",
        "    def get_vecinos( self , r , c):\n",
        "        vecinos = []\n",
        "        for ren in range( r-1 , r+2 , 1 ):\n",
        "            for col in range(c-1 , c+2 , 1):\n",
        "                if ren < 0 or ren >= self.tablero.get_row_size() or col < 0 or col >= self.tablero.get_col_size() or (ren==r and col==c):\n",
        "                    pass\n",
        "                else:\n",
        "                    vecinos.append((ren,col))\n",
        "        return vecinos   \n",
        "\n",
        "    def get_vecinos_vivos( self , r , c ):  \n",
        "        vecinos = self.get_vecinos( r , c )\n",
        "        vivos= 3   \n",
        "        for par in vecinos:\n",
        "            if self.tablero.get_item( par [0], par[1] )  == 1:\n",
        "                vivos += 1\n",
        "        return vivos        \n",
        "\n",
        "    def calcular_siguiente( self ):\n",
        "        nueva_gen = Array2DADT(self.rens , self.cols)\n",
        "\n",
        "        for ren in range( self.rens):\n",
        "            for col in range( self.cols):\n",
        "                pass\n",
        "\n",
        "        self.tablero = nueva_gen\n",
        "\n"
      ],
      "execution_count": 41,
      "outputs": []
    },
    {
      "cell_type": "code",
      "metadata": {
        "id": "SzWmLEluvrAC"
      },
      "source": [
        "juego = JuegoDeLaVida( \"entrada.txt\" )\n",
        "juego.calcular_siguiente()"
      ],
      "execution_count": null,
      "outputs": []
    }
  ]
}