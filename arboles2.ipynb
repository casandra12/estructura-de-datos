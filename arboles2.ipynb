{
  "nbformat": 4,
  "nbformat_minor": 0,
  "metadata": {
    "colab": {
      "name": "arboles2.ipynb",
      "provenance": [],
      "authorship_tag": "ABX9TyOa6zJU9Cz/R5aYetwQOA8V",
      "include_colab_link": true
    },
    "kernelspec": {
      "name": "python3",
      "display_name": "Python 3"
    },
    "language_info": {
      "name": "python"
    }
  },
  "cells": [
    {
      "cell_type": "markdown",
      "metadata": {
        "id": "view-in-github",
        "colab_type": "text"
      },
      "source": [
        "<a href=\"https://colab.research.google.com/github/casandra12/estructura-de-datos/blob/main/arboles2.ipynb\" target=\"_parent\"><img src=\"https://colab.research.google.com/assets/colab-badge.svg\" alt=\"Open In Colab\"/></a>"
      ]
    },
    {
      "cell_type": "code",
      "metadata": {
        "id": "vKb7pG3SJGX-"
      },
      "source": [
        "class Nodobinario:\n",
        "    def __init__(self, value, left= None, rigth = None):\n",
        "        self.data= value\n",
        "        self.left=left\n",
        "        self.rigth = rigth\n",
        "\n",
        "class Nodoternanrio:\n",
        "    def __init__(self, value, left= None, center=None, rigth = None):\n",
        "        self.data = value\n",
        "        self.left = left\n",
        "        self.center = center\n",
        "        self.rigth = rigth"
      ],
      "execution_count": 20,
      "outputs": []
    },
    {
      "cell_type": "code",
      "metadata": {
        "colab": {
          "base_uri": "https://localhost:8080/"
        },
        "id": "HUOrOKKjJaRh",
        "outputId": "1ee51833-c1ed-45f7-a949-a2780c392d63"
      },
      "source": [
        "arbol1 = Nodobinario(\"R\",Nodobinario(\"C\"), Nodobinario(\"H\"))\n",
        "print(arbol1.rigth.data)\n",
        "\n",
        "arbol2 = Nodoternanrio(4, Nodoternanrio(3, Nodoternanrio(5,left=Nodoternanrio(2)),Nodoternanrio(5),Nodoternanrio(2)), None, Nodoternanrio(5))\n",
        "print(arbol2.left.rigth.data)\n",
        "print(arbol2.data)\n",
        "print(arbol2.left.center.data)\n",
        "print(arbol2.rigth.left)\n",
        "print( arbol2.left.left.left.data)\n",
        "print(\"----- sin usar la palabra print ----\")\n",
        "ejemplo = arbol2.left.left.left.data\n",
        "print(ejemplo)\n",
        "print(\"---- otra forma ----\")\n",
        "aux = arbol2\n",
        "while( aux.left != None):\n",
        "    aux = aux.left\n",
        "print( aux.data )"
      ],
      "execution_count": 21,
      "outputs": [
        {
          "output_type": "stream",
          "name": "stdout",
          "text": [
            "H\n",
            "2\n",
            "4\n",
            "5\n",
            "None\n",
            "2\n",
            "----- sin usar la palabra print ----\n",
            "2\n",
            "---- otra forma ----\n",
            "2\n"
          ]
        }
      ]
    },
    {
      "cell_type": "code",
      "metadata": {
        "colab": {
          "base_uri": "https://localhost:8080/"
        },
        "id": "8Hau5JAlKF3X",
        "outputId": "61a93c12-1b12-4f31-fe26-61a1e17fbd70"
      },
      "source": [
        "root = Nodobinario(\"Santi\",None,Nodobinario(\"Jesus\",Nodobinario(\"Pedro\",None,Nodobinario(\" Pedro jr\"))))\n",
        "print(root.rigth.left.rigth.data)"
      ],
      "execution_count": 26,
      "outputs": [
        {
          "output_type": "stream",
          "name": "stdout",
          "text": [
            " Pedro jr\n"
          ]
        }
      ]
    },
    {
      "cell_type": "code",
      "metadata": {
        "id": "an9r4_RaKS1P"
      },
      "source": [
        "class BinaryNode:\n",
        "  def __init__ (self, value, left = None, rigth = None  ):\n",
        "    self.data = value\n",
        "    self.left = left\n",
        "    self.rigth = rigth\n",
        "\n",
        "class BinarySearchTree:\n",
        "  def __init__ (self):\n",
        "    self.root = None\n",
        "\n",
        "\n",
        "  def insert (self, value ):\n",
        "    if self.root == None:\n",
        "      self.root = BinaryNode(value)\n",
        "    else: \n",
        "      self.__insert_nodo(self.root, value)\n",
        "\n",
        "\n",
        "\n",
        "  def __insert_nodo(self, nodo, value):\n",
        "    if nodo.data == value:\n",
        "      pass\n",
        "    elif value < nodo.data:\n",
        "      if nodo.left == None:\n",
        "        self.left = BinaryNode(value)\n",
        "      else:\n",
        "        self.__insert_nodo(nodo.left, value)\n",
        "    else: \n",
        "      if nodo.rigth == None:\n",
        "        nodo.rigth = BinaryNode ( value)\n",
        "      else: \n",
        "        self.__insert_nodo(nodo.rigth, value)\n",
        "\n",
        "\n",
        "  def transversal ( self, formato= \"posorden\"):\n",
        "    if formato  == \"posorde\":\n",
        "      self.recorrido_pos(self.root)\n",
        "    elif formato == \"preorden\":\n",
        "      self.recorrido_pre(self.root)\n",
        "    else: #inorden\n",
        "      self.recorrido_in(self.root)\n",
        "    print(\"\")\n",
        "    \n",
        "\n",
        "\n",
        "  def recorrido_pos(self, nodo):\n",
        "    if nodo != None:\n",
        "      self.recorrido_pos(nodo.left)\n",
        "      self.recorrido_pos(nodo.rigth)\n",
        "      print(str(nodo.data), end = \",\" )\n",
        "  \n",
        "  def recorrido_pre(self, nodo):\n",
        "    if nodo != None:\n",
        "      print(str(nodo.data), end = \",\"   )\n",
        "      self.recorrido_pre(nodo.left)\n",
        "      self.recorrido_pre(nodo.rigth)\n",
        "\n",
        "\n",
        "  def recorrido_in(self, nodo):\n",
        "    if nodo != None:\n",
        "      self.recorrido_in(nodo.left)\n",
        "      print(str(nodo.data), end = \",\"   )\n",
        "      self.recorrido_in(nodo.rigth)\n",
        "  \n",
        "\n",
        "  def search(sefl, value ):\n",
        "    if self.root == None:\n",
        "      print(\"El arbol esta vacio\")\n",
        "      return None\n",
        "    else:\n",
        "      self.__search(  self.root, value)\n",
        "\n",
        "\n",
        "  def __search(self, nodo, value ):\n",
        "    if nodo.data == None:\n",
        "      print(\"EL dato no existe\")\n",
        "      return None\n",
        "    elif nodo.data == value:\n",
        "      print(\"Encontrado\")\n",
        "      return nodo\n",
        "    elif value < nodo.data:\n",
        "      return self.__buscar( nodo.left, value)\n",
        "    else:\n",
        "      return self.__buscar( nodo.rigth, value)"
      ],
      "execution_count": 28,
      "outputs": []
    },
    {
      "cell_type": "code",
      "metadata": {
        "colab": {
          "base_uri": "https://localhost:8080/"
        },
        "id": "PK2erNJxKTmh",
        "outputId": "3f592e1e-211b-46da-87f6-3d757fa34588"
      },
      "source": [
        "arbl1 = BinarySearchTree()\n",
        "arbl1.insert(10)\n",
        "arbl1.insert(15)\n",
        "arbl1.insert(45)\n",
        "arbl1.insert(34)\n",
        "arbl1.insert(60)\n",
        "\n",
        "\n",
        "arbl1.transversal(\"preorden\")\n",
        "arbl1.transversal(\"inorden\")\n",
        "arbl1.transversal(\"posorden\")"
      ],
      "execution_count": 29,
      "outputs": [
        {
          "output_type": "stream",
          "name": "stdout",
          "text": [
            "10,15,45,60,\n",
            "10,15,45,60,\n",
            "10,15,45,60,\n"
          ]
        }
      ]
    }
  ]
}