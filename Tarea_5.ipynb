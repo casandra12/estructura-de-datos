{
  "nbformat": 4,
  "nbformat_minor": 0,
  "metadata": {
    "colab": {
      "name": "Tarea_5.ipynb",
      "provenance": [],
      "authorship_tag": "ABX9TyMY01aimH0dStCMGmdOeceo",
      "include_colab_link": true
    },
    "kernelspec": {
      "name": "python3",
      "display_name": "Python 3"
    },
    "language_info": {
      "name": "python"
    }
  },
  "cells": [
    {
      "cell_type": "markdown",
      "metadata": {
        "id": "view-in-github",
        "colab_type": "text"
      },
      "source": [
        "<a href=\"https://colab.research.google.com/github/casandra12/estructura-de-datos/blob/main/Tarea_5.ipynb\" target=\"_parent\"><img src=\"https://colab.research.google.com/assets/colab-badge.svg\" alt=\"Open In Colab\"/></a>"
      ]
    },
    {
      "cell_type": "code",
      "metadata": {
        "colab": {
          "base_uri": "https://localhost:8080/"
        },
        "id": "PSlLvLh7pVys",
        "outputId": "0530929b-bf74-46ce-e19e-599c7a3cddc1"
      },
      "source": [
        "!cat junio.dat\n"
      ],
      "execution_count": null,
      "outputs": [
        {
          "output_type": "stream",
          "name": "stdout",
          "text": [
            "numero de trabajador, nombres, paterno, materno, horas extra, sueldo base, año de ingreso\r\n",
            "2345,CARLOS,PEREZ,CASTILLO,0,9850,2017\r\n",
            "5754,ANGEL,GOMEZ,GARRIDO,1,9850,2020\r\n",
            "5345,JESUS,MARTIN,SANTOS,2,9850,2016\r\n",
            "3267,DAVID,JIMENEZ,LOZANO,2,9850,2017\r\n",
            "8765,PEDRO,RUIZ,GUERRERO,2,9850,2017\r\n",
            "5454,DANIEL,HERNANDEZ,CANO,3,9850,2018\r\n",
            "3456,ALEJANDRO,DIAZ,PRIETO,2,9850,2018\r\n",
            "3445,MARIA,MORENO,MENDEZ,1,9850,2018\r\n",
            "9088,ALBERTO,MU�OZ,CRUZ,1,9850,2017\r\n",
            "8877,RAFAEL,ALVAREZ,FLORES,2,9850,2017\r\n",
            "6767,FERNANDO,ROMERO,HERRERA,4,9850,2019\r\n",
            "5654,PABLO,ALONSO,GALLEGO,1,9850,2019\r\n",
            "4323,JORGE,GUTIERREZ,MARQUEZ,2,9850,2020\r\n",
            "2232,RAMON,NAVARRO,LEON,1,9850,2016"
          ]
        }
      ]
    },
    {
      "cell_type": "code",
      "metadata": {
        "colab": {
          "base_uri": "https://localhost:8080/"
        },
        "id": "nfn7bVfjrkvl",
        "outputId": "441d8a0c-becd-4906-bd51-81da6d1e1c0a"
      },
      "source": [
        "archivo=open( 'junio.dat', 'rt',encoding='latin-1')\n",
        "print(archivo.read())"
      ],
      "execution_count": 2,
      "outputs": [
        {
          "output_type": "stream",
          "name": "stdout",
          "text": [
            "numero de trabajador, nombres, paterno, materno, horas extra, sueldo base, aÃ±o de ingreso\n",
            "2345,CARLOS,PEREZ,CASTILLO,0,9850,2017\n",
            "5754,ANGEL,GOMEZ,GARRIDO,1,9850,2020\n",
            "5345,JESUS,MARTIN,SANTOS,2,9850,2016\n",
            "3267,DAVID,JIMENEZ,LOZANO,2,9850,2017\n",
            "8765,PEDRO,RUIZ,GUERRERO,2,9850,2017\n",
            "5454,DANIEL,HERNANDEZ,CANO,3,9850,2018\n",
            "3456,ALEJANDRO,DIAZ,PRIETO,2,9850,2018\n",
            "3445,MARIA,MORENO,MENDEZ,1,9850,2018\n",
            "9088,ALBERTO,MUOZ,CRUZ,1,9850,2017\n",
            "8877,RAFAEL,ALVAREZ,FLORES,2,9850,2017\n",
            "6767,FERNANDO,ROMERO,HERRERA,4,9850,2019\n",
            "5654,PABLO,ALONSO,GALLEGO,1,9850,2019\n",
            "4323,JORGE,GUTIERREZ,MARQUEZ,2,9850,2020\n",
            "2232,RAMON,NAVARRO,LEON,1,9850,2016\n"
          ]
        }
      ]
    },
    {
      "cell_type": "code",
      "metadata": {
        "id": "-k68HNcQkZRD"
      },
      "source": [
        "class Array:\n",
        "  def __init__( self , tam ):\n",
        "    self.__tamanio = tam\n",
        "    self.__data = [ 0 for x in range(self.__tamanio) ]\n",
        "\n",
        "  def to_string( self ):\n",
        "    info = \"\"\n",
        "    for dato in self.__data:\n",
        "      info = info + str(dato) +\"|\"\n",
        "    return info\n",
        "\n",
        "  def get_item( self , index ):\n",
        "    return self.__data[index]\n",
        "\n",
        "  def get_length( self ):\n",
        "    return len( self.__data )\n",
        "\n",
        "  def set_item( self , dato , index):\n",
        "    # hace falta revisar limites\n",
        "    if index >= 0 and index < self.get_length():\n",
        "      self.__data[index] = dato\n",
        "    else:\n",
        "      print(\"Error: indice fuera de rango\")\n",
        "\n",
        "  def clear( self , dato ):\n",
        "    self.__data = [ dato for x in range(self.__tamanio) ]"
      ],
      "execution_count": 5,
      "outputs": []
    },
    {
      "cell_type": "code",
      "metadata": {
        "id": "SKpDNdl4lqA_",
        "colab": {
          "base_uri": "https://localhost:8080/"
        },
        "outputId": "46afb154-1571-4e89-f510-7f01d27562e1"
      },
      "source": [
        "class Trabajador:\n",
        "  def __init__( self, nt, nom, pat, mat, he, sb, ai ):\n",
        "    self._numero_trabajador = nt\n",
        "    self._nombres = nom\n",
        "    self._paterno = pat\n",
        "    self._materno = mat\n",
        "    self._horas_extra = he\n",
        "    self._sueldo_base = sb\n",
        "    self._anio_ingreso = ai\n",
        "    #Así para todos los atributos\n",
        "\n",
        "    #Aqui van todos los metodos de acceso\n",
        "  def set_numero_trabajador(self, nt):\n",
        "    self._numero_trabajador = nt\n",
        "  \n",
        "  def get_numero_trabajador( self ):\n",
        "    return self._numero_trabajador \n",
        "  \n",
        "  def set_nombres(self,nom):\n",
        "    self._nombres = nom\n",
        "  \n",
        "  def get_nombres( self ):\n",
        "    return self._nombres \n",
        "  \n",
        "  def set_paterno(self,pat):\n",
        "    self._paterno = pat\n",
        "  \n",
        "  def get_paterno( self ):\n",
        "    return self._paterno \n",
        "  \n",
        "  def set_materno(self,mat):\n",
        "    self._materno = mat\n",
        "  \n",
        "  def get_materno( self ):\n",
        "    return self._materno\n",
        " \n",
        "  def set_horas_extra(self,he):\n",
        "    self._horas_extra = he\n",
        " \n",
        "  def get_horas_extra( self ):\n",
        "    return self._horas_extra \n",
        " \n",
        "  def set_sueldo_base(self,sb):\n",
        "    self._sueldo_base = sb\n",
        " \n",
        "  def get_sueldo_base( self ):\n",
        "    return self._sueldo_base \n",
        " \n",
        "  def set_anio_ingreso(self,ai):\n",
        "    self._anio_ingreso = ai\n",
        " \n",
        "  def get_anio_ingreso( self ):\n",
        "    return self._anio_ingreso \n",
        "  # metodos de uso general. --> metodos que hacen calculos adicionales\n",
        "\n",
        "  def calcular_sueldo_mensual( self ):\n",
        "    anios = 2021 - self.get_anio_ingreso()\n",
        "    \n",
        "    sueldo = self.get_sueldo_base()\n",
        "    # agregarle horas extra\n",
        "    sueldo += self.get_horas_extra() * 276.5\n",
        "    # agregar prestaciones por antiguedad\n",
        "    sueldo = sueldo + ( sueldo * anios * 0.03)\n",
        "    return sueldo\n",
        "\n",
        "  def to_string( self ):\n",
        "    return \"Nombre: \" + self._nombres + \" Sueldo: $\" + str(self.calcular_sueldo_mensual())\n",
        "\n",
        "  def calcular_antiguedad( self ):\n",
        "    return 2021 - self.get_anio_ingreso()\n",
        "\n",
        "emp = Trabajador( 2345, \"Carlos\", \"Perez\", \"Castillo\",1,9850,2017 ) \n",
        "print(emp.get_sueldo_base())\n",
        "print(emp.get_horas_extra())\n",
        "print(emp.calcular_antiguedad())\n",
        "print(emp.to_string())\n",
        "\n"
      ],
      "execution_count": 3,
      "outputs": [
        {
          "output_type": "stream",
          "name": "stdout",
          "text": [
            "9850\n",
            "1\n",
            "4\n",
            "Nombre: Carlos Sueldo: $11341.68\n"
          ]
        }
      ]
    },
    {
      "cell_type": "code",
      "metadata": {
        "id": "FkgYzAWKqPSa",
        "colab": {
          "base_uri": "https://localhost:8080/"
        },
        "outputId": "27616103-32f5-418c-a09e-c71e3b0d6ffc"
      },
      "source": [
        "class NominaADT:\n",
        "  def __init__( self , ruta_archivo ):\n",
        "    # abrir el archivo y determinar el numero de empleados\n",
        "    archivo = open( ruta_archivo , \"rt\", encoding = \"latin-1\" )\n",
        "    empleados = archivo.readlines()\n",
        "    del empleados[0]\n",
        "    for index in range(len(empleados)):\n",
        "      empleados[index] = empleados[index].strip().split(\",\")\n",
        "    self.__data=Array( len(empleados) )\n",
        "    cont = 0\n",
        "    for emp in empleados:\n",
        "      tmp = Trabajador( int(emp[0]) , emp[1] , emp[2] , emp[3] , int(emp[4]) , int(emp[5]) , int(emp[6]) )\n",
        "      self.__data.set_item( tmp , cont)\n",
        "      cont += 1\n",
        "\n",
        "  def buscar_mas_antiguo( self ):\n",
        "    #iterar y buscar\n",
        "    pass \n",
        "\n",
        "  def buscar_menor_antiguedad( self ):\n",
        "    # idem\n",
        "    pass\n",
        "\n",
        "  def calcular_sueldos( self ):\n",
        "    for index in range(self.__data.get_length()):\n",
        "      print(self.__data.get_item(index).to_string() )\n",
        "\n",
        "\n",
        "ejemplo = NominaADT(\"junio.dat\")\n",
        "ejemplo.calcular_sueldos()\n",
        "\n"
      ],
      "execution_count": 6,
      "outputs": [
        {
          "output_type": "stream",
          "name": "stdout",
          "text": [
            "Nombre: CARLOS Sueldo: $11032.0\n",
            "Nombre: ANGEL Sueldo: $10430.295\n",
            "Nombre: JESUS Sueldo: $11963.45\n",
            "Nombre: DAVID Sueldo: $11651.36\n",
            "Nombre: PEDRO Sueldo: $11651.36\n",
            "Nombre: DANIEL Sueldo: $11640.655\n",
            "Nombre: ALEJANDRO Sueldo: $11339.27\n",
            "Nombre: MARIA Sueldo: $11037.885\n",
            "Nombre: ALBERTO Sueldo: $11341.68\n",
            "Nombre: RAFAEL Sueldo: $11651.36\n",
            "Nombre: FERNANDO Sueldo: $11613.36\n",
            "Nombre: PABLO Sueldo: $10734.09\n",
            "Nombre: JORGE Sueldo: $10715.09\n",
            "Nombre: RAMON Sueldo: $11645.475\n"
          ]
        }
      ]
    }
  ]
}