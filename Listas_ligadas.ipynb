{
  "nbformat": 4,
  "nbformat_minor": 0,
  "metadata": {
    "colab": {
      "name": "Listas_ligadas.ipynb",
      "provenance": [],
      "authorship_tag": "ABX9TyNSrXHagHfh6PEu1TzACSRx",
      "include_colab_link": true
    },
    "kernelspec": {
      "name": "python3",
      "display_name": "Python 3"
    },
    "language_info": {
      "name": "python"
    }
  },
  "cells": [
    {
      "cell_type": "markdown",
      "metadata": {
        "id": "view-in-github",
        "colab_type": "text"
      },
      "source": [
        "<a href=\"https://colab.research.google.com/github/casandra12/estructura-de-datos/blob/main/Listas_ligadas.ipynb\" target=\"_parent\"><img src=\"https://colab.research.google.com/assets/colab-badge.svg\" alt=\"Open In Colab\"/></a>"
      ]
    },
    {
      "cell_type": "code",
      "metadata": {
        "id": "9pgZxyZC6iz1"
      },
      "source": [
        ""
      ],
      "execution_count": null,
      "outputs": []
    },
    {
      "cell_type": "code",
      "metadata": {
        "id": "YpVuPmrT70Ot"
      },
      "source": [
        "class Nodo:\n",
        "    def __init__( self, value, siguiente = None ):\n",
        "        self.data = value \n",
        "        self.next = siguiente"
      ],
      "execution_count": 1,
      "outputs": []
    },
    {
      "cell_type": "code",
      "metadata": {
        "id": "NNmp8-kw8C2w"
      },
      "source": [
        "class LinkedList:\n",
        "    def __init__(self):\n",
        "        self.head = None\n",
        "\n",
        "    def is_empty(self):\n",
        "        return self.head == None\n",
        "\n",
        "    def get_tail(self):\n",
        "        if self.is_empty():\n",
        "            return None\n",
        "        else:\n",
        "            curr_node = self.head\n",
        "            while curr_node.next != None:\n",
        "                curr_node = curr_node.next\n",
        "            return curr_node\n",
        "\n",
        "    def append(self , value):\n",
        "        if self.head == None:\n",
        "            self.head = Nodo(value)\n",
        "        else:\n",
        "            curr_node =self.head\n",
        "            while curr_node.next !=None:\n",
        "                curr_node = curr_node.next\n",
        "            curr_node.next = Nodo( value )    \n",
        "\n",
        "    def transversal(self):\n",
        "        curr_node = self.head\n",
        "        while curr_node !=None:\n",
        "            print(f\"| { curr_node.data} | --> \", end=\"\")\n",
        "            curr_node = curr_node.next\n",
        "        print(\"\")\n",
        "\n",
        "    def remove(self, value):\n",
        "        if self.head == None:\n",
        "            print(\"Lista vacía, no se puede remover nada\")\n",
        "        else:\n",
        "            curr_node = self.head\n",
        "            aux= None\n",
        "            while curr_node.data != value :\n",
        "                aux= curr_node\n",
        "                curr_node = curr_node.next\n",
        "\n",
        "            if curr_node != None:\n",
        "                  aux.next = curr_node.next  \n",
        "                  curr_node = None\n",
        "\n",
        "\n",
        "    def prepend(self, value):\n",
        "        if self.head == None:\n",
        "            print(\" Está vacío, no se puede hacer preppend\")\n",
        "        else:\n",
        "            self.head = Nodo(value, self.head)\n",
        "\n",
        "    def add_after(self, find, new_e):\n",
        "      curr_node = self.head\n",
        "      while curr_node != None:\n",
        "        if curr_node.data == find:\n",
        "          aux = curr_node.next\n",
        "          curr_node.next = Nodo(dato,aux)\n",
        "          break\n",
        "        curr_node = curr_node.next\n",
        "\n",
        "    def add_before(self, find, new_e):\n",
        "      curr_node = self.head\n",
        "      prev_node = None\n",
        "      if self.head != None:\n",
        "        while curr_node != None:\n",
        "          if curr_node.data == find:\n",
        "            aux = Nodo(new_e)\n",
        "            aux.next = curr_node\n",
        "          \n",
        "            if prev_node != None:\n",
        "              prev_node.next = aux\n",
        "            break\n",
        "          prev_node = curr_node\n",
        "          curr_node = curr_node.next"
      ],
      "execution_count": 2,
      "outputs": []
    },
    {
      "cell_type": "code",
      "metadata": {
        "colab": {
          "base_uri": "https://localhost:8080/"
        },
        "id": "lPPQ18xs8JYp",
        "outputId": "949e853d-76cc-41a7-cf66-77ce1564502b"
      },
      "source": [
        "linked = LinkedList()\n",
        "linked.append(1)\n",
        "linked.append(2)\n",
        "linked.append(3)\n",
        "linked.append(4)\n",
        "\n",
        "linked.add_before(3,6)\n",
        "\n",
        "linked.transversal()"
      ],
      "execution_count": 3,
      "outputs": [
        {
          "output_type": "stream",
          "name": "stdout",
          "text": [
            "| 1 | --> | 2 | --> | 6 | --> | 3 | --> | 4 | --> \n"
          ]
        }
      ]
    }
  ]
}