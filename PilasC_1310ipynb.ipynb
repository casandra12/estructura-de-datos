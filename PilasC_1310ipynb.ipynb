{
  "nbformat": 4,
  "nbformat_minor": 0,
  "metadata": {
    "colab": {
      "name": "PilasC_1310ipynb",
      "provenance": [],
      "authorship_tag": "ABX9TyMKIpznKauDsFKyx0w5ySJS",
      "include_colab_link": true
    },
    "kernelspec": {
      "name": "python3",
      "display_name": "Python 3"
    },
    "language_info": {
      "name": "python"
    }
  },
  "cells": [
    {
      "cell_type": "markdown",
      "metadata": {
        "id": "view-in-github",
        "colab_type": "text"
      },
      "source": [
        "<a href=\"https://colab.research.google.com/github/casandra12/estructura-de-datos/blob/main/PilasC_1310ipynb.ipynb\" target=\"_parent\"><img src=\"https://colab.research.google.com/assets/colab-badge.svg\" alt=\"Open In Colab\"/></a>"
      ]
    },
    {
      "cell_type": "code",
      "metadata": {
        "id": "DOotU9mS8qub"
      },
      "source": [
        "class StackADT:\n",
        "    def __init__(self):\n",
        "        self.__data = list()\n",
        "\n",
        "#regresa true si la lisat esta vacia \n",
        "    def is_empty(self):\n",
        "         return  len(self.__data) == 0\n",
        "\n",
        "    def get_length(self):\n",
        "        return len(self.__data)\n",
        "\n",
        "    def pop(self):\n",
        "        if self.is_empty():\n",
        "            print(\"pila vacia, naa que sacar\")\n",
        "        else:\n",
        "            return self.__data.pop()\n",
        "\n",
        "    def peek (self):\n",
        "        if self.is_empty():\n",
        "            print(\"pila vacia, nada que sacar\")\n",
        "        else:\n",
        "            return self.__data[ -1] \n",
        "\n",
        "    def push (self,value):\n",
        "        self.__data.append(value)\n",
        "\n",
        "\n",
        "    def to_string( self ):\n",
        "        for item in self.__data[::-1]:\n",
        "            print(f\" | { item } | \")\n",
        "\n",
        "\n",
        "\n",
        "\n"
      ],
      "execution_count": 2,
      "outputs": []
    },
    {
      "cell_type": "code",
      "metadata": {
        "colab": {
          "base_uri": "https://localhost:8080/"
        },
        "id": "WOtqSfTLQfD1",
        "outputId": "4f38b43b-7308-48f3-80e7-0156b440ef61"
      },
      "source": [
        "pila= StackADT()\n",
        "print(\"esta vacia?\",pila.is_empty())\n",
        "print(\"# elementos:\", pila.get_length())\n",
        "pila.push(10)\n",
        "print(\"esta vacia?\",pila.is_empty())\n",
        "print(\"# elementos:\", pila.get_length())\n",
        "pila.push(20)\n",
        "pila.push(30)\n",
        "pila.push(40)\n",
        "pila.to_string()\n",
        "print(pila.pop())#40\n",
        "print(pila.peek())#30\n",
        "pila.to_string()"
      ],
      "execution_count": 3,
      "outputs": [
        {
          "output_type": "stream",
          "name": "stdout",
          "text": [
            "esta vacia? True\n",
            "# elementos: 0\n",
            "esta vacia? False\n",
            "# elementos: 1\n",
            " | 40 | \n",
            " | 30 | \n",
            " | 20 | \n",
            " | 10 | \n",
            "40\n",
            "30\n",
            " | 30 | \n",
            " | 20 | \n",
            " | 10 | \n"
          ]
        }
      ]
    },
    {
      "cell_type": "markdown",
      "metadata": {
        "id": "pI3_XhLcym3N"
      },
      "source": [
        ""
      ]
    },
    {
      "cell_type": "code",
      "metadata": {
        "colab": {
          "base_uri": "https://localhost:8080/"
        },
        "id": "Ii6PESOcy3TN",
        "outputId": "229154fb-f8f8-4e01-ffd7-ec31167c4cef"
      },
      "source": [
        "!cat prog.txt\n"
      ],
      "execution_count": 4,
      "outputs": [
        {
          "output_type": "stream",
          "name": "stdout",
          "text": [
            "#include <stdio.h>\r\n",
            "int main()\r\n",
            "{\r\n",
            "    int num, count, sum = 0;\r\n",
            "\r\n",
            "    printf(\"Enter a positive integer: \");\r\n",
            "    scanf(\"%d\", &num);\r\n",
            "\r\n",
            "    // for loop terminates when num is less than count\r\n",
            "    for(count = 1; count <= num; ++count)\r\n",
            "    {\r\n",
            "        sum += count;\r\n",
            "    }\r\n",
            "\r\n",
            "    printf(\"Sum = %d\", sum);\r\n",
            "\r\n",
            "    return 0;\r\n",
            "}"
          ]
        }
      ]
    },
    {
      "cell_type": "markdown",
      "metadata": {
        "id": "HtoWUuUE47bz"
      },
      "source": [
        "1.- Hacer unprograma que impemente el algoritmo de pila vacía para verificar balanceo de llaves ( '{' y '}') y balanceo de parénteisis ( '(' y ')') para codigo de programacion C y, C++ y Java\n"
      ]
    },
    {
      "cell_type": "code",
      "metadata": {
        "colab": {
          "base_uri": "https://localhost:8080/"
        },
        "id": "lZkeUWpkzzwA",
        "outputId": "409f4d98-28ce-4b6c-bc46-3c06a2a8da80"
      },
      "source": [
        "#entrada = open('prog.txt','rt')\n",
        "codigo= entrada.read()\n",
        "print(codigo)\n",
        "#print(codigo)\n",
        "pilaControl=StackADT()\n",
        "pilaControl.push(\"#\") #caracter de pila vacia\n",
        "\n",
        "for letra in codigo:\n",
        "    #print(f\"--> {letra} <--\")\n",
        "    if letra == '{': #regla 1\n",
        "        pilaControl.push(\"{\")\n",
        "    elif letra =='}':\n",
        "        basura = pilaControl.pop()\n",
        "    else:\n",
        "        pass\n",
        "\n",
        "# Nota: Ete codigo aun no contempla desbalanceo\n",
        "if pilaControl.peek() =='#':\n",
        "    print(\"el codigo proporcionado esta correctamente balanceado\")\n",
        "else:\n",
        "    print(\"el codigo no esta balanceado en llaves (y)\")"
      ],
      "execution_count": 17,
      "outputs": [
        {
          "output_type": "stream",
          "name": "stdout",
          "text": [
            "\n",
            "el codigo proporcionado esta correctamente balanceado\n"
          ]
        }
      ]
    },
    {
      "cell_type": "markdown",
      "metadata": {
        "id": "qQWn9L8K5C0H"
      },
      "source": [
        "1.- Hacer unprograma que impemente el algoritmo de pila vacía para verificar balanceo de llaves ( '{' y '}') y balanceo de parénteisis ( '(' y ')') para codigo de programacion C y, C++ y Java\n"
      ]
    }
  ]
}