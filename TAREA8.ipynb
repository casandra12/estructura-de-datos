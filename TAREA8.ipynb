{
  "nbformat": 4,
  "nbformat_minor": 0,
  "metadata": {
    "colab": {
      "name": "TAREA8.ipynb",
      "provenance": [],
      "authorship_tag": "ABX9TyNWMfCbW45BDcoe7R9+0oKi",
      "include_colab_link": true
    },
    "kernelspec": {
      "name": "python3",
      "display_name": "Python 3"
    },
    "language_info": {
      "name": "python"
    }
  },
  "cells": [
    {
      "cell_type": "markdown",
      "metadata": {
        "id": "view-in-github",
        "colab_type": "text"
      },
      "source": [
        "<a href=\"https://colab.research.google.com/github/casandra12/estructura-de-datos/blob/main/TAREA8.ipynb\" target=\"_parent\"><img src=\"https://colab.research.google.com/assets/colab-badge.svg\" alt=\"Open In Colab\"/></a>"
      ]
    },
    {
      "cell_type": "code",
      "metadata": {
        "id": "LTQA38ybU_3Z"
      },
      "source": [
        "class NodoDoble:\n",
        "    def __init__( self, value, siguiente = None, previo = None ):\n",
        "        self.data = value\n",
        "        self.next = siguiente\n",
        "        self.prev = previo\n",
        "        "
      ],
      "execution_count": 1,
      "outputs": []
    },
    {
      "cell_type": "code",
      "metadata": {
        "id": "umuYM8GAVHYK"
      },
      "source": [
        "class Nodo:\n",
        "  def __init__(self, value, siguiente = None):\n",
        "    self.data = value\n",
        "    self.next = siguiente\n",
        "\n",
        "class DoubleLinkedList:\n",
        "    def __init__( self ):\n",
        "        self.head = None\n",
        "        self.tail = None\n",
        "        self.size = 0\n",
        "\n",
        "    def get_size( self ):\n",
        "        return self.size\n",
        "    \n",
        "    def is_empty( self ): \n",
        "        return self.size == 0\n",
        "    \n",
        "    def append( self, value ):\n",
        "        if self.is_empty():\n",
        "            self.head = NodoDoble( value )\n",
        "            self.tail = self.head\n",
        "        else:\n",
        "            self.tail.next = NodoDoble( value, None, self.tail )\n",
        "            self.tail = self.tail.next\n",
        "        self.size += 1\n",
        "    \n",
        "    def find_from_tail( self, value ):\n",
        "        curr_node = self.tail\n",
        "        contador = 0\n",
        "        while curr_node.data != value:\n",
        "            contador += 1\n",
        "            curr_node = curr_node.prev\n",
        "        \n",
        "        if curr_node.data == value:\n",
        "            print(f\"Su Nodo está en la posición: { contador + 1 } entrando por tail\")\n",
        "\n",
        "    def find_from_head( self, value ):\n",
        "        curr_node = self.head\n",
        "        contador = 0\n",
        "        while curr_node.data != value:\n",
        "            contador += 1\n",
        "            curr_node = curr_node.next\n",
        "\n",
        "        if curr_node.data == value:\n",
        "            print(f\"Su Nodo está en la posición: { contador + 1 } entrando por head\")\n",
        "\n",
        "    def remove_from_tail( self, value ):\n",
        "        curr_node = self.tail\n",
        "        while curr_node.data != value:\n",
        "            curr_node = curr_node.prev\n",
        "        \n",
        "        if curr_node.data == value:\n",
        "            curr_node.next.prev = curr_node.prev\n",
        "            curr_node.prev.next = curr_node.next\n",
        "        self.size += 1\n",
        "\n",
        "    def remove_from_head( self, value ):\n",
        "        curr_node = self.head\n",
        "        while curr_node.data != value:\n",
        "            curr_node = curr_node.next\n",
        "\n",
        "        if curr_node.data == value:\n",
        "            curr_node.prev.next = curr_node.next\n",
        "            curr_node.next.prev = curr_node.prev\n",
        "        self.size -= 1\n",
        "\n",
        "    def transversal( self ):\n",
        "        curr_node = self.head\n",
        "        while curr_node != None:\n",
        "            print(f\"| {curr_node.data} | -->\", end=\"\")\n",
        "            curr_node = curr_node.next\n",
        "        print(\"\")\n",
        "\n",
        "\n",
        "    def reverse_transversal( self ):\n",
        "        curr_node = self.tail\n",
        "        while curr_node != None:\n",
        "            print(f\"| {curr_node.data} | -->\", end=\"\")\n",
        "            curr_node = curr_node.prev\n",
        "        print(\"\")"
      ],
      "execution_count": 2,
      "outputs": []
    },
    {
      "cell_type": "code",
      "metadata": {
        "colab": {
          "base_uri": "https://localhost:8080/"
        },
        "id": "Xar_SXPgVOYz",
        "outputId": "d4b05964-7d6b-403c-f820-0fae85d48253"
      },
      "source": [
        "ldl = DoubleLinkedList()\n",
        "ldl.append(10)\n",
        "ldl.append(20)\n",
        "ldl.append(30)\n",
        "ldl.append(40)\n",
        "ldl.append(50)\n",
        "ldl.append(60)\n",
        "ldl.transversal()\n",
        "print(\"\")\n",
        "print(f\"¿La lista está vacía?: { ldl.is_empty() }\")\n",
        "print(\"\")\n",
        "print(\"Después de remove_from_head\")\n",
        "ldl.remove_from_head(20)\n",
        "ldl.transversal()\n",
        "print(\"\")\n",
        "print(\"Después de remove_from_tail\")\n",
        "ldl.remove_from_tail(30)\n",
        "ldl.transversal()\n",
        "print(\"\")\n",
        "print(f\"La Lista Doblemente Ligada tiene { ldl.get_size() } elementos\")\n",
        "print(\"\")\n",
        "ldl.find_from_tail(10)\n",
        "print(\"\")\n",
        "ldl.find_from_head(50)\n",
        "print(\"\")\n",
        "print(\"reverse_transversal:\")\n",
        "ldl.reverse_transversal()\n",
        "print(\"\")"
      ],
      "execution_count": 3,
      "outputs": [
        {
          "output_type": "stream",
          "name": "stdout",
          "text": [
            "| 10 | -->| 20 | -->| 30 | -->| 40 | -->| 50 | -->| 60 | -->\n",
            "\n",
            "¿La lista está vacía?: False\n",
            "\n",
            "Después de remove_from_head\n",
            "| 10 | -->| 30 | -->| 40 | -->| 50 | -->| 60 | -->\n",
            "\n",
            "Después de remove_from_tail\n",
            "| 10 | -->| 40 | -->| 50 | -->| 60 | -->\n",
            "\n",
            "La Lista Doblemente Ligada tiene 6 elementos\n",
            "\n",
            "Su Nodo está en la posición: 4 entrando por tail\n",
            "\n",
            "Su Nodo está en la posición: 3 entrando por head\n",
            "\n",
            "reverse_transversal:\n",
            "| 60 | -->| 50 | -->| 40 | -->| 10 | -->\n",
            "\n"
          ]
        }
      ]
    }
  ]
}