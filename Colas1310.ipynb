{
  "nbformat": 4,
  "nbformat_minor": 0,
  "metadata": {
    "colab": {
      "name": "Colas1310.ipynb",
      "provenance": [],
      "authorship_tag": "ABX9TyP+6pdC0lojN7eblK+hFgiK",
      "include_colab_link": true
    },
    "kernelspec": {
      "name": "python3",
      "display_name": "Python 3"
    },
    "language_info": {
      "name": "python"
    }
  },
  "cells": [
    {
      "cell_type": "markdown",
      "metadata": {
        "id": "view-in-github",
        "colab_type": "text"
      },
      "source": [
        "<a href=\"https://colab.research.google.com/github/casandra12/estructura-de-datos/blob/main/Colas1310.ipynb\" target=\"_parent\"><img src=\"https://colab.research.google.com/assets/colab-badge.svg\" alt=\"Open In Colab\"/></a>"
      ]
    },
    {
      "cell_type": "code",
      "metadata": {
        "id": "Kgc49-foK5rB"
      },
      "source": [
        "\n",
        "class Queue:\n",
        "  def __init__(self):\n",
        "    self.data = []\n",
        "\n",
        "  def is_empty(self):\n",
        "    return len(self.data) == 0\n",
        "  \n",
        "  def length( self):\n",
        "    return len( self.data)\n",
        "  \n",
        "  def enqueue( self,value):\n",
        "    self.data.append(value)\n",
        "  \n",
        "  def dequeue( self):\n",
        "    return self.data.pop(0)\n",
        "\n",
        "  def to_string ( self):\n",
        "    for elem in self.data:\n",
        "      print(f\"| {elem} | <--\", end=\"\")\n",
        "    print(\"\")"
      ],
      "execution_count": 6,
      "outputs": []
    },
    {
      "cell_type": "code",
      "metadata": {
        "id": "VZAeP6AaKNKt",
        "colab": {
          "base_uri": "https://localhost:8080/"
        },
        "outputId": "c06847ee-a848-4a2c-e90f-fc7de6160f24"
      },
      "source": [
        "cola = Queue()\n",
        "print(\"Esta vacio?:\",cola.is_empty())\n",
        "print(\"numero de elementos = \", cola.length())\n",
        "cola.enqueue(10)\n",
        "cola.enqueue(20)\n",
        "cola.enqueue(30)\n",
        "print(\"Esta vacio?:\",cola.is_empty())\n",
        "print(\"numero de elementos = \", cola.length())\n",
        "cola.to_string()\n",
        "siguiente = cola.dequeue()\n",
        "cola.enqueue(40)\n",
        "cola.enqueue(50)\n",
        "cola.enqueue(60)\n",
        "print(\"Atendiendo a:\",siguiente)\n",
        "cola.to_string()\n"
      ],
      "execution_count": 7,
      "outputs": [
        {
          "output_type": "stream",
          "name": "stdout",
          "text": [
            "Esta vacio?: True\n",
            "numero de elementos =  0\n",
            "Esta vacio?: False\n",
            "numero de elementos =  3\n",
            "| 10 | <--| 20 | <--| 30 | <--\n",
            "Atendiendo a: 10\n",
            "| 20 | <--| 30 | <--| 40 | <--| 50 | <--| 60 | <--\n"
          ]
        }
      ]
    }
  ]
}