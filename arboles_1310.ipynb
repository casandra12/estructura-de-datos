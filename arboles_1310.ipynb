{
  "nbformat": 4,
  "nbformat_minor": 0,
  "metadata": {
    "colab": {
      "name": "arboles_1310.ipynb",
      "provenance": [],
      "authorship_tag": "ABX9TyPi6FtlHfEerqp+6CG6iqgL",
      "include_colab_link": true
    },
    "kernelspec": {
      "name": "python3",
      "display_name": "Python 3"
    },
    "language_info": {
      "name": "python"
    }
  },
  "cells": [
    {
      "cell_type": "markdown",
      "metadata": {
        "id": "view-in-github",
        "colab_type": "text"
      },
      "source": [
        "<a href=\"https://colab.research.google.com/github/casandra12/estructura-de-datos/blob/main/arboles_1310.ipynb\" target=\"_parent\"><img src=\"https://colab.research.google.com/assets/colab-badge.svg\" alt=\"Open In Colab\"/></a>"
      ]
    },
    {
      "cell_type": "code",
      "metadata": {
        "id": "FAqWl5QeCQTz"
      },
      "source": [
        "class Nodobinario:\n",
        "    def __init__(self, value, left= None, rigth = None):\n",
        "        self.data= value\n",
        "        self.left=left\n",
        "        self.rigth = rigth\n",
        "\n",
        "class Nodoternanrio:\n",
        "    def __init__(self, value, left= None, center=None, rigth = None):\n",
        "        self.data = value\n",
        "        self.left = left\n",
        "        self.center = center\n",
        "        self.rigth = rigth"
      ],
      "execution_count": 9,
      "outputs": []
    },
    {
      "cell_type": "code",
      "metadata": {
        "colab": {
          "base_uri": "https://localhost:8080/"
        },
        "id": "svQdSMTtCLAW",
        "outputId": "0cc861b3-f24a-47ea-a9a1-51d6e24ee9aa"
      },
      "source": [
        "arboll = Nodobinario(\"R\",Nodobinario(\"C\"), Nodobinario(\"H\"))\n",
        "print(arboll.rigth.data)\n",
        "\n",
        "arbol2 = Nodoternanrio(4, Nodoternanrio(3, Nodoternanrio(5,left=Nodoternanrio(2)),Nodoternanrio(5),Nodoternanrio(2)), None, Nodoternanrio(5))\n",
        "print(arbol2.left.rigth.data)\n",
        "print(arbol2.data)\n",
        "print(arbol2.left.center.data)\n",
        "print(arbol2.rigth.left)\n",
        "print( arbol2.left.left.left.data)\n",
        "print(\"----- sin usar la palabra print ----\")\n",
        "ejemplo = arbol2.left.left.left.data\n",
        "print(ejemplo)\n",
        "print(\"---- otra forma ----\")\n",
        "aux = arbol2\n",
        "while( aux.left != None):\n",
        "    aux = aux.left\n",
        "print( aux.data )"
      ],
      "execution_count": 4,
      "outputs": [
        {
          "output_type": "stream",
          "name": "stdout",
          "text": [
            "H\n",
            "2\n",
            "4\n",
            "5\n",
            "None\n",
            "2\n",
            "----- sin usar la palabra print ----\n",
            "2\n",
            "---- otra forma ----\n",
            "2\n"
          ]
        }
      ]
    },
    {
      "cell_type": "code",
      "metadata": {
        "colab": {
          "base_uri": "https://localhost:8080/",
          "height": 180
        },
        "id": "5VjkUqzYeuP3",
        "outputId": "50564f5b-b586-4a65-ddb2-882b96b99ae2"
      },
      "source": [
        "root = Nodobinario(\"Santi\",None,NodoBinario(\"Jesus\",Nodobinario(\"Pedro\",None,Nodobinario(\" Pedro jr\"))))\n",
        "print(root.right.left.right.data)"
      ],
      "execution_count": 10,
      "outputs": [
        {
          "output_type": "error",
          "ename": "NameError",
          "evalue": "ignored",
          "traceback": [
            "\u001b[0;31m---------------------------------------------------------------------------\u001b[0m",
            "\u001b[0;31mNameError\u001b[0m                                 Traceback (most recent call last)",
            "\u001b[0;32m<ipython-input-10-393a499884a5>\u001b[0m in \u001b[0;36m<module>\u001b[0;34m()\u001b[0m\n\u001b[0;32m----> 1\u001b[0;31m \u001b[0mroot\u001b[0m \u001b[0;34m=\u001b[0m \u001b[0mNodobinario\u001b[0m\u001b[0;34m(\u001b[0m\u001b[0;34m\"Santi\"\u001b[0m\u001b[0;34m,\u001b[0m\u001b[0;32mNone\u001b[0m\u001b[0;34m,\u001b[0m\u001b[0mNodoBinario\u001b[0m\u001b[0;34m(\u001b[0m\u001b[0;34m\"Jesus\"\u001b[0m\u001b[0;34m,\u001b[0m\u001b[0mNodobinario\u001b[0m\u001b[0;34m(\u001b[0m\u001b[0;34m\"Pedro\"\u001b[0m\u001b[0;34m,\u001b[0m\u001b[0;32mNone\u001b[0m\u001b[0;34m,\u001b[0m\u001b[0mNodobinario\u001b[0m\u001b[0;34m(\u001b[0m\u001b[0;34m\" Pedro jr\"\u001b[0m\u001b[0;34m)\u001b[0m\u001b[0;34m)\u001b[0m\u001b[0;34m)\u001b[0m\u001b[0;34m)\u001b[0m\u001b[0;34m\u001b[0m\u001b[0;34m\u001b[0m\u001b[0m\n\u001b[0m\u001b[1;32m      2\u001b[0m \u001b[0mprint\u001b[0m\u001b[0;34m(\u001b[0m\u001b[0mroot\u001b[0m\u001b[0;34m.\u001b[0m\u001b[0mright\u001b[0m\u001b[0;34m.\u001b[0m\u001b[0mleft\u001b[0m\u001b[0;34m.\u001b[0m\u001b[0mright\u001b[0m\u001b[0;34m.\u001b[0m\u001b[0mdata\u001b[0m\u001b[0;34m)\u001b[0m\u001b[0;34m\u001b[0m\u001b[0;34m\u001b[0m\u001b[0m\n",
            "\u001b[0;31mNameError\u001b[0m: name 'NodoBinario' is not defined"
          ]
        }
      ]
    }
  ]
}