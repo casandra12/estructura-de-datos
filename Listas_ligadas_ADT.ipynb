{
  "nbformat": 4,
  "nbformat_minor": 0,
  "metadata": {
    "colab": {
      "name": "Listas_ligadas ADT.ipynb",
      "provenance": [],
      "authorship_tag": "ABX9TyO5thk0KafWEB2teDO4Q/Q/",
      "include_colab_link": true
    },
    "kernelspec": {
      "name": "python3",
      "display_name": "Python 3"
    },
    "language_info": {
      "name": "python"
    }
  },
  "cells": [
    {
      "cell_type": "markdown",
      "metadata": {
        "id": "view-in-github",
        "colab_type": "text"
      },
      "source": [
        "<a href=\"https://colab.research.google.com/github/casandra12/estructura-de-datos/blob/main/Listas_ligadas_ADT.ipynb\" target=\"_parent\"><img src=\"https://colab.research.google.com/assets/colab-badge.svg\" alt=\"Open In Colab\"/></a>"
      ]
    },
    {
      "cell_type": "code",
      "metadata": {
        "id": "2VksteOc0ULR"
      },
      "source": [
        ""
      ],
      "execution_count": null,
      "outputs": []
    },
    {
      "cell_type": "markdown",
      "metadata": {
        "id": "b5dC_JQP0il6"
      },
      "source": [
        "#ejercicio con la clase nodo\n",
        "\n",
        "- crear un nodo \n",
        "     -imprimir el valor del nodos\n",
        "-crear dos nodos 1D 2D\n",
        "      imprimir elvalor del primero\n",
        "       imprimir el valor del segindo\n",
        "       transversal\n",
        "Lop mismo con 4 nodos 10,20,30 y 40\n",
        "imprimir el valor del primero\n",
        "imprimir el valor del ultimo\n",
        "transverlas\n",
        "\n",
        "### todo esto antes de ir a la estructura del ADT Lista lñigada \n"
      ]
    },
    {
      "cell_type": "code",
      "metadata": {
        "id": "0h0SjTlF0tNR"
      },
      "source": [
        "class Nodo:\n",
        "    def __init__(self, value, siguiente = None):\n",
        "        self.data = value\n",
        "        self.next = siguiente "
      ],
      "execution_count": null,
      "outputs": []
    },
    {
      "cell_type": "code",
      "metadata": {
        "colab": {
          "base_uri": "https://localhost:8080/"
        },
        "id": "Dx93Xd_L1r_U",
        "outputId": "d658f6ec-fa9f-48f1-80b1-ac7a156d4232"
      },
      "source": [
        "head = Nodo(10)\n",
        "print(head.data)"
      ],
      "execution_count": null,
      "outputs": [
        {
          "output_type": "stream",
          "name": "stdout",
          "text": [
            "10\n"
          ]
        }
      ]
    },
    {
      "cell_type": "code",
      "metadata": {
        "colab": {
          "base_uri": "https://localhost:8080/"
        },
        "id": "XDO--Oay2aIb",
        "outputId": "ddd42ec0-b200-4fe0-aa4d-07da4390ce1d"
      },
      "source": [
        "head = Nodo(10)\n",
        "head.next = Nodo(20)\n",
        "print(f\"primero es igual a {head.data}\")\n",
        "print(f\"segundo es igual a {head.next.data}\")\n",
        "\n",
        "#lo mismo pero ahorrando codigo\n",
        "\n",
        "head = Nodo (10, Nodo(20))\n",
        "print(f\"primero es igual a {head.data}\")\n",
        "print(f\"segundo es igual a {head.next.data}\")\n",
        "\n",
        "#transeversal\n",
        "curr_node = head\n",
        "while curr_node != None:\n",
        "    print(f\"|{curr_node.data}|\", end=\"\")\n",
        "    curr_node = curr_node.next"
      ],
      "execution_count": null,
      "outputs": [
        {
          "output_type": "stream",
          "name": "stdout",
          "text": [
            "primero es igual a 10\n",
            "segundo es igual a 20\n",
            "primero es igual a 10\n",
            "segundo es igual a 20\n",
            "|10||20|"
          ]
        }
      ]
    },
    {
      "cell_type": "code",
      "metadata": {
        "colab": {
          "base_uri": "https://localhost:8080/"
        },
        "id": "K-017fAn689f",
        "outputId": "d2990503-a71a-4801-a222-f3696d3daa8c"
      },
      "source": [
        "head = Nodo(10,Nodo(20,Nodo(30,Nodo(40))))\n",
        "curr_node = head\n",
        "while curr_node != None:\n",
        "    print(f\"|{curr_node.data}|\", end=\"\")\n",
        "    curr_node = curr_node.next\n",
        "print(\"\")\n",
        "#imprimir el primero\n",
        "print(head.data)\n",
        "#imprimir el último\n",
        "curr_node = head\n",
        "while curr_node.next !=None:\n",
        "    curr_node= curr_node.next\n",
        "print(curr_node.data)\n",
        "# insertar nodo 25\n",
        "\n",
        "curr_node = head\n",
        "while curr_node.data !=20:\n",
        "    curr_node= curr_node.next\n",
        "print(curr_node.data)\n",
        "\n",
        "#crear el nodo 25\n",
        "curr_node.next = Nodo(25, curr_node.next)\n",
        "print(\"DESPUÉS DE INSERTAR 25\")\n",
        "\n",
        "while curr_node != None:\n",
        "    print(f\"| {curr_node.data } | --> \" , end=\"\")\n",
        "    curr_node = curr_node.next\n",
        "print(\"\")\n"
      ],
      "execution_count": 39,
      "outputs": [
        {
          "output_type": "stream",
          "name": "stdout",
          "text": [
            "|10||20||30||40|\n",
            "10\n",
            "40\n",
            "20\n",
            "DESPUÉS DE INSERTAR 25\n",
            "| 20 | --> | 25 | --> | 30 | --> | 40 | --> \n"
          ]
        }
      ]
    },
    {
      "cell_type": "code",
      "metadata": {
        "id": "9G5IIfc6uBCR"
      },
      "source": [
        "class LinkedList:\n",
        "    def __init__( self ):\n",
        "        self.head = None\n",
        "\n",
        "    def is_empty( self ):\n",
        "        return self.head == None\n",
        "\n",
        "    def get_tail( self ):\n",
        "        if self.is_empty():\n",
        "            return None\n",
        "        else:\n",
        "            curr_node = self.head\n",
        "            while curr_node.next != None:\n",
        "                curr_node = curr_node.next\n",
        "            return curr_node\n",
        "\n",
        "    def append( self , value ):\n",
        "        if self.head == None:\n",
        "            self.head = Nodo( value )\n",
        "        else:\n",
        "            curr_node =self.head\n",
        "            while curr_node.next !=None:\n",
        "                curr_node = curr_node.next\n",
        "            curr_node.next = Nodo( value )    \n",
        "\n",
        "    def transversal( self ):\n",
        "        curr_node = self.head\n",
        "        while curr_node !=None:\n",
        "            print(f\"| { curr_node.data} | --> \", end=\"\")\n",
        "            curr_node = curr_node.next\n",
        "        print(\"\")\n",
        "\n",
        "    def remove( self , value ):\n",
        "        if self.head == None:\n",
        "            print(\"Lista vacía, no se puede remover nada\")\n",
        "        else:\n",
        "            curr_node = self.head\n",
        "            aux= None\n",
        "            while curr_node.data != value : #Revisar cuando el valor no existe \n",
        "                aux= curr_node\n",
        "                curr_node = curr_node.next\n",
        "\n",
        "            if curr_node != None:\n",
        "                  aux.next = curr_node.next  \n",
        "                  curr_node = None\n",
        "\n",
        "\n",
        "    def preppend( self , value ):\n",
        "        if self.head == None:\n",
        "            print(\" Está vacío, no se puede hacer preppend\")\n",
        "        else:\n",
        "            self.head = Nodo( value , self.head)"
      ],
      "execution_count": 51,
      "outputs": []
    },
    {
      "cell_type": "code",
      "metadata": {
        "colab": {
          "base_uri": "https://localhost:8080/"
        },
        "id": "ZyM9ANENtoTJ",
        "outputId": "f6d3330a-5afc-4b86-dce5-92dbad93d4dd"
      },
      "source": [
        "lista = LinkedList()\n",
        "if lista.is_empty():\n",
        "    print(\"La lista está vacía\")\n",
        "else:\n",
        "    print(\" La lista no está vacía\")\n",
        "\n",
        "lista.append(10)\n",
        "lista.append(20)\n",
        "lista.append(30)\n",
        "lista.append(40)\n",
        "lista.append(50)\n",
        "\n",
        "nodo = lista.get_tail()\n",
        "if nodo !=None:\n",
        "    print(nodo.data)\n",
        "else: \n",
        "    print(\"Lista está vacía\")\n",
        "\n",
        "lista.transversal()\n",
        "lista.remove(30)\n",
        "lista.transversal()\n",
        "lista.preppend(5)\n",
        "print(\"Después del preppend\")\n",
        "lista.transversal()"
      ],
      "execution_count": 52,
      "outputs": [
        {
          "output_type": "stream",
          "name": "stdout",
          "text": [
            "La lista está vacía\n",
            "50\n",
            "| 10 | --> | 20 | --> | 30 | --> | 40 | --> | 50 | --> \n",
            "| 10 | --> | 20 | --> | 40 | --> | 50 | --> \n",
            "Después del preppend\n",
            "| 5 | --> | 10 | --> | 20 | --> | 40 | --> | 50 | --> \n"
          ]
        }
      ]
    },
    {
      "cell_type": "markdown",
      "metadata": {
        "id": "Qy1NSHqutoFa"
      },
      "source": [
        ""
      ]
    },
    {
      "cell_type": "markdown",
      "metadata": {
        "id": "8BnaHchl68C5"
      },
      "source": [
        ""
      ]
    }
  ]
}