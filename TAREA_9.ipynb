{
  "nbformat": 4,
  "nbformat_minor": 0,
  "metadata": {
    "colab": {
      "name": "TAREA_9.ipynb",
      "provenance": [],
      "collapsed_sections": [],
      "authorship_tag": "ABX9TyPhLCRIdmEQno+wCKrJuxhm",
      "include_colab_link": true
    },
    "kernelspec": {
      "name": "python3",
      "display_name": "Python 3"
    },
    "language_info": {
      "name": "python"
    }
  },
  "cells": [
    {
      "cell_type": "markdown",
      "metadata": {
        "id": "view-in-github",
        "colab_type": "text"
      },
      "source": [
        "<a href=\"https://colab.research.google.com/github/casandra12/estructura-de-datos/blob/main/TAREA_9.ipynb\" target=\"_parent\"><img src=\"https://colab.research.google.com/assets/colab-badge.svg\" alt=\"Open In Colab\"/></a>"
      ]
    },
    {
      "cell_type": "code",
      "metadata": {
        "id": "TT0PucP0AqFb"
      },
      "source": [
        "class StackADT:\n",
        "    def __init__(self):\n",
        "        self.__data = list()\n",
        "\n",
        "    def is_empty(self):\n",
        "        return len(self.__data) == 0\n",
        "    \n",
        "    def get_length(self):\n",
        "        return len(self.__data)\n",
        "\n",
        "    def pop(self):\n",
        "        if self.is_empty():\n",
        "            print(\"Pila vacía, nada que sacar\")\n",
        "        else:\n",
        "            return self.__data.pop()\n",
        "\n",
        "    def peek(self):\n",
        "        if self.is_empty():\n",
        "            print(\"Pila vacía, nada que sacar\")\n",
        "        else :\n",
        "            return self.__data[-1]\n",
        "    \n",
        "    def push(self, value):\n",
        "        self.__data.append(value)\n",
        "\n",
        "    def to_string(self):\n",
        "        for item in self.__data[::-1]:\n",
        "            print(f'| { item } |')"
      ],
      "execution_count": 2,
      "outputs": []
    },
    {
      "cell_type": "code",
      "metadata": {
        "colab": {
          "base_uri": "https://localhost:8080/"
        },
        "id": "APsv8zaB-PT5",
        "outputId": "580ec2c1-6a30-4d55-845b-78ced47ab6d2"
      },
      "source": [
        "entrada= open('texto.txt', 'rt') \n",
        "codigo = entrada.read()\n",
        "pilaControl=StackADT()\n",
        "# \"#\"Caracter de pila vacía\n",
        "pilaControl.push(\"#\") \n",
        "\n",
        "for letra in codigo:\n",
        "    if letra == '{':\n",
        "        pilaControl.push('{')  #1er\n",
        "    elif letra == '}':\n",
        "        if pilaControl.peek() == '#':\n",
        "            pilaControl.push('{')\n",
        "            break \n",
        "        else:\n",
        "            basura = pilaControl.pop()\n",
        "    elif letra == '(':\n",
        "        pilaControl.push('(') #1er\n",
        "    elif letra == ')':\n",
        "        if pilaControl.peek() == '#':\n",
        "            pilaControl.push('(')\n",
        "            break \n",
        "        else:\n",
        "            basura = pilaControl.pop() \n",
        "    else:\n",
        "        pass\n",
        " \n",
        "if pilaControl.peek() == '#':\n",
        "    print(\"El código proporcionado esta correctamente balanceado\")\n",
        "else :\n",
        "    print(\"El código no esta balanceado en llaves { y } o en paréntesis ( y ) de manera correcta\")"
      ],
      "execution_count": 5,
      "outputs": [
        {
          "output_type": "stream",
          "name": "stdout",
          "text": [
            "El código no esta balanceado en llaves { y } o en paréntesis ( y ) de manera correcta\n"
          ]
        }
      ]
    },
    {
      "cell_type": "code",
      "metadata": {
        "id": "Z2cjGz5bApS4"
      },
      "source": [
        ""
      ],
      "execution_count": null,
      "outputs": []
    }
  ]
}